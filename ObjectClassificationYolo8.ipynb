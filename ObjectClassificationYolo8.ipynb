{
  "nbformat": 4,
  "nbformat_minor": 0,
  "metadata": {
    "colab": {
      "provenance": [],
      "mount_file_id": "1qxgD7-UE3gLOmIU61yBN5nl77vMmxS5-",
      "authorship_tag": "ABX9TyOomxoa8PelLN9kL7uAGXcD",
      "include_colab_link": true
    },
    "kernelspec": {
      "name": "python3",
      "display_name": "Python 3"
    },
    "language_info": {
      "name": "python"
    }
  },
  "cells": [
    {
      "cell_type": "markdown",
      "metadata": {
        "id": "view-in-github",
        "colab_type": "text"
      },
      "source": [
        "<a href=\"https://colab.research.google.com/github/IuliZver/-stepik_auto_tests_course/blob/main/ObjectClassificationYolo8.ipynb\" target=\"_parent\"><img src=\"https://colab.research.google.com/assets/colab-badge.svg\" alt=\"Open In Colab\"/></a>"
      ]
    },
    {
      "cell_type": "code",
      "execution_count": null,
      "metadata": {
        "colab": {
          "base_uri": "https://localhost:8080/"
        },
        "id": "rPgnFmGfT7A4",
        "outputId": "dd3357e5-2106-49cf-8a3a-a39a3303e08a",
        "collapsed": true
      },
      "outputs": [
        {
          "output_type": "stream",
          "name": "stdout",
          "text": [
            "Collecting ultralytics\n",
            "  Downloading ultralytics-8.3.99-py3-none-any.whl.metadata (37 kB)\n",
            "Requirement already satisfied: numpy<=2.1.1,>=1.23.0 in /usr/local/lib/python3.11/dist-packages (from ultralytics) (2.0.2)\n",
            "Requirement already satisfied: matplotlib>=3.3.0 in /usr/local/lib/python3.11/dist-packages (from ultralytics) (3.10.0)\n",
            "Requirement already satisfied: opencv-python>=4.6.0 in /usr/local/lib/python3.11/dist-packages (from ultralytics) (4.11.0.86)\n",
            "Requirement already satisfied: pillow>=7.1.2 in /usr/local/lib/python3.11/dist-packages (from ultralytics) (11.1.0)\n",
            "Requirement already satisfied: pyyaml>=5.3.1 in /usr/local/lib/python3.11/dist-packages (from ultralytics) (6.0.2)\n",
            "Requirement already satisfied: requests>=2.23.0 in /usr/local/lib/python3.11/dist-packages (from ultralytics) (2.32.3)\n",
            "Requirement already satisfied: scipy>=1.4.1 in /usr/local/lib/python3.11/dist-packages (from ultralytics) (1.14.1)\n",
            "Requirement already satisfied: torch>=1.8.0 in /usr/local/lib/python3.11/dist-packages (from ultralytics) (2.6.0+cu124)\n",
            "Requirement already satisfied: torchvision>=0.9.0 in /usr/local/lib/python3.11/dist-packages (from ultralytics) (0.21.0+cu124)\n",
            "Requirement already satisfied: tqdm>=4.64.0 in /usr/local/lib/python3.11/dist-packages (from ultralytics) (4.67.1)\n",
            "Requirement already satisfied: psutil in /usr/local/lib/python3.11/dist-packages (from ultralytics) (5.9.5)\n",
            "Requirement already satisfied: py-cpuinfo in /usr/local/lib/python3.11/dist-packages (from ultralytics) (9.0.0)\n",
            "Requirement already satisfied: pandas>=1.1.4 in /usr/local/lib/python3.11/dist-packages (from ultralytics) (2.2.2)\n",
            "Requirement already satisfied: seaborn>=0.11.0 in /usr/local/lib/python3.11/dist-packages (from ultralytics) (0.13.2)\n",
            "Collecting ultralytics-thop>=2.0.0 (from ultralytics)\n",
            "  Downloading ultralytics_thop-2.0.14-py3-none-any.whl.metadata (9.4 kB)\n",
            "Requirement already satisfied: contourpy>=1.0.1 in /usr/local/lib/python3.11/dist-packages (from matplotlib>=3.3.0->ultralytics) (1.3.1)\n",
            "Requirement already satisfied: cycler>=0.10 in /usr/local/lib/python3.11/dist-packages (from matplotlib>=3.3.0->ultralytics) (0.12.1)\n",
            "Requirement already satisfied: fonttools>=4.22.0 in /usr/local/lib/python3.11/dist-packages (from matplotlib>=3.3.0->ultralytics) (4.56.0)\n",
            "Requirement already satisfied: kiwisolver>=1.3.1 in /usr/local/lib/python3.11/dist-packages (from matplotlib>=3.3.0->ultralytics) (1.4.8)\n",
            "Requirement already satisfied: packaging>=20.0 in /usr/local/lib/python3.11/dist-packages (from matplotlib>=3.3.0->ultralytics) (24.2)\n",
            "Requirement already satisfied: pyparsing>=2.3.1 in /usr/local/lib/python3.11/dist-packages (from matplotlib>=3.3.0->ultralytics) (3.2.1)\n",
            "Requirement already satisfied: python-dateutil>=2.7 in /usr/local/lib/python3.11/dist-packages (from matplotlib>=3.3.0->ultralytics) (2.8.2)\n",
            "Requirement already satisfied: pytz>=2020.1 in /usr/local/lib/python3.11/dist-packages (from pandas>=1.1.4->ultralytics) (2025.1)\n",
            "Requirement already satisfied: tzdata>=2022.7 in /usr/local/lib/python3.11/dist-packages (from pandas>=1.1.4->ultralytics) (2025.1)\n",
            "Requirement already satisfied: charset-normalizer<4,>=2 in /usr/local/lib/python3.11/dist-packages (from requests>=2.23.0->ultralytics) (3.4.1)\n",
            "Requirement already satisfied: idna<4,>=2.5 in /usr/local/lib/python3.11/dist-packages (from requests>=2.23.0->ultralytics) (3.10)\n",
            "Requirement already satisfied: urllib3<3,>=1.21.1 in /usr/local/lib/python3.11/dist-packages (from requests>=2.23.0->ultralytics) (2.3.0)\n",
            "Requirement already satisfied: certifi>=2017.4.17 in /usr/local/lib/python3.11/dist-packages (from requests>=2.23.0->ultralytics) (2025.1.31)\n",
            "Requirement already satisfied: filelock in /usr/local/lib/python3.11/dist-packages (from torch>=1.8.0->ultralytics) (3.18.0)\n",
            "Requirement already satisfied: typing-extensions>=4.10.0 in /usr/local/lib/python3.11/dist-packages (from torch>=1.8.0->ultralytics) (4.12.2)\n",
            "Requirement already satisfied: networkx in /usr/local/lib/python3.11/dist-packages (from torch>=1.8.0->ultralytics) (3.4.2)\n",
            "Requirement already satisfied: jinja2 in /usr/local/lib/python3.11/dist-packages (from torch>=1.8.0->ultralytics) (3.1.6)\n",
            "Requirement already satisfied: fsspec in /usr/local/lib/python3.11/dist-packages (from torch>=1.8.0->ultralytics) (2025.3.0)\n",
            "Collecting nvidia-cuda-nvrtc-cu12==12.4.127 (from torch>=1.8.0->ultralytics)\n",
            "  Downloading nvidia_cuda_nvrtc_cu12-12.4.127-py3-none-manylinux2014_x86_64.whl.metadata (1.5 kB)\n",
            "Collecting nvidia-cuda-runtime-cu12==12.4.127 (from torch>=1.8.0->ultralytics)\n",
            "  Downloading nvidia_cuda_runtime_cu12-12.4.127-py3-none-manylinux2014_x86_64.whl.metadata (1.5 kB)\n",
            "Collecting nvidia-cuda-cupti-cu12==12.4.127 (from torch>=1.8.0->ultralytics)\n",
            "  Downloading nvidia_cuda_cupti_cu12-12.4.127-py3-none-manylinux2014_x86_64.whl.metadata (1.6 kB)\n",
            "Collecting nvidia-cudnn-cu12==9.1.0.70 (from torch>=1.8.0->ultralytics)\n",
            "  Downloading nvidia_cudnn_cu12-9.1.0.70-py3-none-manylinux2014_x86_64.whl.metadata (1.6 kB)\n",
            "Collecting nvidia-cublas-cu12==12.4.5.8 (from torch>=1.8.0->ultralytics)\n",
            "  Downloading nvidia_cublas_cu12-12.4.5.8-py3-none-manylinux2014_x86_64.whl.metadata (1.5 kB)\n",
            "Collecting nvidia-cufft-cu12==11.2.1.3 (from torch>=1.8.0->ultralytics)\n",
            "  Downloading nvidia_cufft_cu12-11.2.1.3-py3-none-manylinux2014_x86_64.whl.metadata (1.5 kB)\n",
            "Collecting nvidia-curand-cu12==10.3.5.147 (from torch>=1.8.0->ultralytics)\n",
            "  Downloading nvidia_curand_cu12-10.3.5.147-py3-none-manylinux2014_x86_64.whl.metadata (1.5 kB)\n",
            "Collecting nvidia-cusolver-cu12==11.6.1.9 (from torch>=1.8.0->ultralytics)\n",
            "  Downloading nvidia_cusolver_cu12-11.6.1.9-py3-none-manylinux2014_x86_64.whl.metadata (1.6 kB)\n",
            "Collecting nvidia-cusparse-cu12==12.3.1.170 (from torch>=1.8.0->ultralytics)\n",
            "  Downloading nvidia_cusparse_cu12-12.3.1.170-py3-none-manylinux2014_x86_64.whl.metadata (1.6 kB)\n",
            "Requirement already satisfied: nvidia-cusparselt-cu12==0.6.2 in /usr/local/lib/python3.11/dist-packages (from torch>=1.8.0->ultralytics) (0.6.2)\n",
            "Requirement already satisfied: nvidia-nccl-cu12==2.21.5 in /usr/local/lib/python3.11/dist-packages (from torch>=1.8.0->ultralytics) (2.21.5)\n",
            "Requirement already satisfied: nvidia-nvtx-cu12==12.4.127 in /usr/local/lib/python3.11/dist-packages (from torch>=1.8.0->ultralytics) (12.4.127)\n",
            "Collecting nvidia-nvjitlink-cu12==12.4.127 (from torch>=1.8.0->ultralytics)\n",
            "  Downloading nvidia_nvjitlink_cu12-12.4.127-py3-none-manylinux2014_x86_64.whl.metadata (1.5 kB)\n",
            "Requirement already satisfied: triton==3.2.0 in /usr/local/lib/python3.11/dist-packages (from torch>=1.8.0->ultralytics) (3.2.0)\n",
            "Requirement already satisfied: sympy==1.13.1 in /usr/local/lib/python3.11/dist-packages (from torch>=1.8.0->ultralytics) (1.13.1)\n",
            "Requirement already satisfied: mpmath<1.4,>=1.1.0 in /usr/local/lib/python3.11/dist-packages (from sympy==1.13.1->torch>=1.8.0->ultralytics) (1.3.0)\n",
            "Requirement already satisfied: six>=1.5 in /usr/local/lib/python3.11/dist-packages (from python-dateutil>=2.7->matplotlib>=3.3.0->ultralytics) (1.17.0)\n",
            "Requirement already satisfied: MarkupSafe>=2.0 in /usr/local/lib/python3.11/dist-packages (from jinja2->torch>=1.8.0->ultralytics) (3.0.2)\n",
            "Downloading ultralytics-8.3.99-py3-none-any.whl (976 kB)\n",
            "\u001b[2K   \u001b[90m━━━━━━━━━━━━━━━━━━━━━━━━━━━━━━━━━━━━━━━━\u001b[0m \u001b[32m976.9/976.9 kB\u001b[0m \u001b[31m15.6 MB/s\u001b[0m eta \u001b[36m0:00:00\u001b[0m\n",
            "\u001b[?25hDownloading nvidia_cublas_cu12-12.4.5.8-py3-none-manylinux2014_x86_64.whl (363.4 MB)\n",
            "\u001b[2K   \u001b[90m━━━━━━━━━━━━━━━━━━━━━━━━━━━━━━━━━━━━━━━━\u001b[0m \u001b[32m363.4/363.4 MB\u001b[0m \u001b[31m4.4 MB/s\u001b[0m eta \u001b[36m0:00:00\u001b[0m\n",
            "\u001b[?25hDownloading nvidia_cuda_cupti_cu12-12.4.127-py3-none-manylinux2014_x86_64.whl (13.8 MB)\n",
            "\u001b[2K   \u001b[90m━━━━━━━━━━━━━━━━━━━━━━━━━━━━━━━━━━━━━━━━\u001b[0m \u001b[32m13.8/13.8 MB\u001b[0m \u001b[31m92.5 MB/s\u001b[0m eta \u001b[36m0:00:00\u001b[0m\n",
            "\u001b[?25hDownloading nvidia_cuda_nvrtc_cu12-12.4.127-py3-none-manylinux2014_x86_64.whl (24.6 MB)\n",
            "\u001b[2K   \u001b[90m━━━━━━━━━━━━━━━━━━━━━━━━━━━━━━━━━━━━━━━━\u001b[0m \u001b[32m24.6/24.6 MB\u001b[0m \u001b[31m71.5 MB/s\u001b[0m eta \u001b[36m0:00:00\u001b[0m\n",
            "\u001b[?25hDownloading nvidia_cuda_runtime_cu12-12.4.127-py3-none-manylinux2014_x86_64.whl (883 kB)\n",
            "\u001b[2K   \u001b[90m━━━━━━━━━━━━━━━━━━━━━━━━━━━━━━━━━━━━━━━━\u001b[0m \u001b[32m883.7/883.7 kB\u001b[0m \u001b[31m35.3 MB/s\u001b[0m eta \u001b[36m0:00:00\u001b[0m\n",
            "\u001b[?25hDownloading nvidia_cudnn_cu12-9.1.0.70-py3-none-manylinux2014_x86_64.whl (664.8 MB)\n",
            "\u001b[2K   \u001b[90m━━━━━━━━━━━━━━━━━━━━━━━━━━━━━━━━━━━━━━━━\u001b[0m \u001b[32m664.8/664.8 MB\u001b[0m \u001b[31m2.1 MB/s\u001b[0m eta \u001b[36m0:00:00\u001b[0m\n",
            "\u001b[?25hDownloading nvidia_cufft_cu12-11.2.1.3-py3-none-manylinux2014_x86_64.whl (211.5 MB)\n",
            "\u001b[2K   \u001b[90m━━━━━━━━━━━━━━━━━━━━━━━━━━━━━━━━━━━━━━━━\u001b[0m \u001b[32m211.5/211.5 MB\u001b[0m \u001b[31m5.5 MB/s\u001b[0m eta \u001b[36m0:00:00\u001b[0m\n",
            "\u001b[?25hDownloading nvidia_curand_cu12-10.3.5.147-py3-none-manylinux2014_x86_64.whl (56.3 MB)\n",
            "\u001b[2K   \u001b[90m━━━━━━━━━━━━━━━━━━━━━━━━━━━━━━━━━━━━━━━━\u001b[0m \u001b[32m56.3/56.3 MB\u001b[0m \u001b[31m11.2 MB/s\u001b[0m eta \u001b[36m0:00:00\u001b[0m\n",
            "\u001b[?25hDownloading nvidia_cusolver_cu12-11.6.1.9-py3-none-manylinux2014_x86_64.whl (127.9 MB)\n",
            "\u001b[2K   \u001b[90m━━━━━━━━━━━━━━━━━━━━━━━━━━━━━━━━━━━━━━━━\u001b[0m \u001b[32m127.9/127.9 MB\u001b[0m \u001b[31m7.1 MB/s\u001b[0m eta \u001b[36m0:00:00\u001b[0m\n",
            "\u001b[?25hDownloading nvidia_cusparse_cu12-12.3.1.170-py3-none-manylinux2014_x86_64.whl (207.5 MB)\n",
            "\u001b[2K   \u001b[90m━━━━━━━━━━━━━━━━━━━━━━━━━━━━━━━━━━━━━━━━\u001b[0m \u001b[32m207.5/207.5 MB\u001b[0m \u001b[31m6.2 MB/s\u001b[0m eta \u001b[36m0:00:00\u001b[0m\n",
            "\u001b[?25hDownloading nvidia_nvjitlink_cu12-12.4.127-py3-none-manylinux2014_x86_64.whl (21.1 MB)\n",
            "\u001b[2K   \u001b[90m━━━━━━━━━━━━━━━━━━━━━━━━━━━━━━━━━━━━━━━━\u001b[0m \u001b[32m21.1/21.1 MB\u001b[0m \u001b[31m76.6 MB/s\u001b[0m eta \u001b[36m0:00:00\u001b[0m\n",
            "\u001b[?25hDownloading ultralytics_thop-2.0.14-py3-none-any.whl (26 kB)\n",
            "Installing collected packages: nvidia-nvjitlink-cu12, nvidia-curand-cu12, nvidia-cufft-cu12, nvidia-cuda-runtime-cu12, nvidia-cuda-nvrtc-cu12, nvidia-cuda-cupti-cu12, nvidia-cublas-cu12, nvidia-cusparse-cu12, nvidia-cudnn-cu12, nvidia-cusolver-cu12, ultralytics-thop, ultralytics\n",
            "  Attempting uninstall: nvidia-nvjitlink-cu12\n",
            "    Found existing installation: nvidia-nvjitlink-cu12 12.5.82\n",
            "    Uninstalling nvidia-nvjitlink-cu12-12.5.82:\n",
            "      Successfully uninstalled nvidia-nvjitlink-cu12-12.5.82\n",
            "  Attempting uninstall: nvidia-curand-cu12\n",
            "    Found existing installation: nvidia-curand-cu12 10.3.6.82\n",
            "    Uninstalling nvidia-curand-cu12-10.3.6.82:\n",
            "      Successfully uninstalled nvidia-curand-cu12-10.3.6.82\n",
            "  Attempting uninstall: nvidia-cufft-cu12\n",
            "    Found existing installation: nvidia-cufft-cu12 11.2.3.61\n",
            "    Uninstalling nvidia-cufft-cu12-11.2.3.61:\n",
            "      Successfully uninstalled nvidia-cufft-cu12-11.2.3.61\n",
            "  Attempting uninstall: nvidia-cuda-runtime-cu12\n",
            "    Found existing installation: nvidia-cuda-runtime-cu12 12.5.82\n",
            "    Uninstalling nvidia-cuda-runtime-cu12-12.5.82:\n",
            "      Successfully uninstalled nvidia-cuda-runtime-cu12-12.5.82\n",
            "  Attempting uninstall: nvidia-cuda-nvrtc-cu12\n",
            "    Found existing installation: nvidia-cuda-nvrtc-cu12 12.5.82\n",
            "    Uninstalling nvidia-cuda-nvrtc-cu12-12.5.82:\n",
            "      Successfully uninstalled nvidia-cuda-nvrtc-cu12-12.5.82\n",
            "  Attempting uninstall: nvidia-cuda-cupti-cu12\n",
            "    Found existing installation: nvidia-cuda-cupti-cu12 12.5.82\n",
            "    Uninstalling nvidia-cuda-cupti-cu12-12.5.82:\n",
            "      Successfully uninstalled nvidia-cuda-cupti-cu12-12.5.82\n",
            "  Attempting uninstall: nvidia-cublas-cu12\n",
            "    Found existing installation: nvidia-cublas-cu12 12.5.3.2\n",
            "    Uninstalling nvidia-cublas-cu12-12.5.3.2:\n",
            "      Successfully uninstalled nvidia-cublas-cu12-12.5.3.2\n",
            "  Attempting uninstall: nvidia-cusparse-cu12\n",
            "    Found existing installation: nvidia-cusparse-cu12 12.5.1.3\n",
            "    Uninstalling nvidia-cusparse-cu12-12.5.1.3:\n",
            "      Successfully uninstalled nvidia-cusparse-cu12-12.5.1.3\n",
            "  Attempting uninstall: nvidia-cudnn-cu12\n",
            "    Found existing installation: nvidia-cudnn-cu12 9.3.0.75\n",
            "    Uninstalling nvidia-cudnn-cu12-9.3.0.75:\n",
            "      Successfully uninstalled nvidia-cudnn-cu12-9.3.0.75\n",
            "  Attempting uninstall: nvidia-cusolver-cu12\n",
            "    Found existing installation: nvidia-cusolver-cu12 11.6.3.83\n",
            "    Uninstalling nvidia-cusolver-cu12-11.6.3.83:\n",
            "      Successfully uninstalled nvidia-cusolver-cu12-11.6.3.83\n",
            "Successfully installed nvidia-cublas-cu12-12.4.5.8 nvidia-cuda-cupti-cu12-12.4.127 nvidia-cuda-nvrtc-cu12-12.4.127 nvidia-cuda-runtime-cu12-12.4.127 nvidia-cudnn-cu12-9.1.0.70 nvidia-cufft-cu12-11.2.1.3 nvidia-curand-cu12-10.3.5.147 nvidia-cusolver-cu12-11.6.1.9 nvidia-cusparse-cu12-12.3.1.170 nvidia-nvjitlink-cu12-12.4.127 ultralytics-8.3.99 ultralytics-thop-2.0.14\n"
          ]
        }
      ],
      "source": [
        "!pip install ultralytics\n"
      ]
    },
    {
      "cell_type": "code",
      "source": [
        "import ultralytics                          # для обучения нейронной сети\n",
        "from IPython.display import display, Image  # для работы с изображениями\n",
        "import yaml                                 # для работы с файлом конфигурации\n",
        "import os                                   # для работы с каталогами"
      ],
      "metadata": {
        "colab": {
          "base_uri": "https://localhost:8080/"
        },
        "id": "YejuNvfAVM0W",
        "outputId": "ab53580a-d466-446f-fbfe-721029964400"
      },
      "execution_count": null,
      "outputs": [
        {
          "output_type": "stream",
          "name": "stdout",
          "text": [
            "Creating new Ultralytics Settings v0.0.6 file ✅ \n",
            "View Ultralytics Settings with 'yolo settings' or at '/root/.config/Ultralytics/settings.json'\n",
            "Update Settings with 'yolo settings key=value', i.e. 'yolo settings runs_dir=path/to/dir'. For help see https://docs.ultralytics.com/quickstart/#ultralytics-settings.\n"
          ]
        }
      ]
    },
    {
      "cell_type": "code",
      "source": [
        "HOME = os.getcwd()\n",
        "print(HOME)"
      ],
      "metadata": {
        "colab": {
          "base_uri": "https://localhost:8080/"
        },
        "id": "BKxzJA4IVQz3",
        "outputId": "02bce54e-cc1e-4ec9-ae84-fde9e1256023"
      },
      "execution_count": null,
      "outputs": [
        {
          "output_type": "stream",
          "name": "stdout",
          "text": [
            "/content\n"
          ]
        }
      ]
    },
    {
      "cell_type": "code",
      "source": [
        "!ls"
      ],
      "metadata": {
        "colab": {
          "base_uri": "https://localhost:8080/"
        },
        "id": "tYnxSg33VYTt",
        "outputId": "577ecc0e-22c2-4017-f51d-9cdbd606832f"
      },
      "execution_count": null,
      "outputs": [
        {
          "output_type": "stream",
          "name": "stdout",
          "text": [
            "dataset.zip\n"
          ]
        }
      ]
    },
    {
      "cell_type": "code",
      "source": [
        "# создаем папку папку datasets/dataset и распаковываем в нее архив\n",
        "!mkdir -p datasets/dataset && unzip -q dataset.zip -d datasets/dataset"
      ],
      "metadata": {
        "colab": {
          "base_uri": "https://localhost:8080/"
        },
        "id": "d2LkS0TjVtpa",
        "outputId": "2106dea0-c3c4-4dec-9c87-785d826c45f8",
        "collapsed": true
      },
      "execution_count": 32,
      "outputs": [
        {
          "output_type": "stream",
          "name": "stdout",
          "text": [
            "replace datasets/dataset/README.dataset.txt? [y]es, [n]o, [A]ll, [N]one, [r]ename: n\n",
            "replace datasets/dataset/README.roboflow.txt? [y]es, [n]o, [A]ll, [N]one, [r]ename: n\n",
            "replace datasets/dataset/data.yaml? [y]es, [n]o, [A]ll, [N]one, [r]ename: n\n",
            "replace datasets/dataset/train/images/video_hw_netology_mp4-0000_jpg.rf.5a605f30db5bcc1015e47e44939b1d5b.jpg? [y]es, [n]o, [A]ll, [N]one, [r]ename: n\n",
            "replace datasets/dataset/train/images/video_hw_netology_mp4-0000_jpg.rf.699dfc2d2097724eae09baae164e86ad.jpg? [y]es, [n]o, [A]ll, [N]one, [r]ename: n\n",
            "replace datasets/dataset/train/images/video_hw_netology_mp4-0000_jpg.rf.e172032a60596f72a3ee2030bc5fb45c.jpg? [y]es, [n]o, [A]ll, [N]one, [r]ename: n\n",
            "replace datasets/dataset/train/images/video_hw_netology_mp4-0002_jpg.rf.373db98fbfbe0e24aaad12160cc4aa60.jpg? [y]es, [n]o, [A]ll, [N]one, [r]ename: n\n",
            "replace datasets/dataset/train/images/video_hw_netology_mp4-0002_jpg.rf.832ac21b8bf7b96718d81f1fb78b0124.jpg? [y]es, [n]o, [A]ll, [N]one, [r]ename: n\n",
            "replace datasets/dataset/train/images/video_hw_netology_mp4-0002_jpg.rf.cdf116a4734abfc4cad84d379f1f34b6.jpg? [y]es, [n]o, [A]ll, [N]one, [r]ename: n\n",
            "replace datasets/dataset/train/images/video_hw_netology_mp4-0003_jpg.rf.32ac84e9c6d1d95cfcb0d0cef4cd3d52.jpg? [y]es, [n]o, [A]ll, [N]one, [r]ename: n\n",
            "replace datasets/dataset/train/images/video_hw_netology_mp4-0003_jpg.rf.35b11d54ff73678881b856edc0aa32b8.jpg? [y]es, [n]o, [A]ll, [N]one, [r]ename: n\n",
            "replace datasets/dataset/train/images/video_hw_netology_mp4-0003_jpg.rf.39e477cdda1b257851c403aae8e4b981.jpg? [y]es, [n]o, [A]ll, [N]one, [r]ename: n\n",
            "replace datasets/dataset/train/images/video_hw_netology_mp4-0004_jpg.rf.0d26b375045fb876ca20781a69f5b666.jpg? [y]es, [n]o, [A]ll, [N]one, [r]ename: n\n",
            "replace datasets/dataset/train/images/video_hw_netology_mp4-0004_jpg.rf.4271891235575d81098db46531685d79.jpg? [y]es, [n]o, [A]ll, [N]one, [r]ename: n\n",
            "replace datasets/dataset/train/images/video_hw_netology_mp4-0004_jpg.rf.5192e2edfcb238e9f0bd897209e65a41.jpg? [y]es, [n]o, [A]ll, [N]one, [r]ename: n\n",
            "replace datasets/dataset/train/images/video_hw_netology_mp4-0005_jpg.rf.3bc1e933454c180c727c963dd095bbe8.jpg? [y]es, [n]o, [A]ll, [N]one, [r]ename: \n",
            "error:  invalid response [{ENTER}]\n",
            "replace datasets/dataset/train/images/video_hw_netology_mp4-0005_jpg.rf.3bc1e933454c180c727c963dd095bbe8.jpg? [y]es, [n]o, [A]ll, [N]one, [r]ename: n\n",
            "replace datasets/dataset/train/images/video_hw_netology_mp4-0005_jpg.rf.d8c79a435c75453b580c61b9d3943330.jpg? [y]es, [n]o, [A]ll, [N]one, [r]ename: n\n",
            "replace datasets/dataset/train/images/video_hw_netology_mp4-0005_jpg.rf.fff3d9f5e2aa82b6fc2c3d76775525c5.jpg? [y]es, [n]o, [A]ll, [N]one, [r]ename: nn\n",
            "replace datasets/dataset/train/images/video_hw_netology_mp4-0007_jpg.rf.3da423219ee62ac9d5c94a0b8c06bcdf.jpg? [y]es, [n]o, [A]ll, [N]one, [r]ename: n\n",
            "replace datasets/dataset/train/images/video_hw_netology_mp4-0007_jpg.rf.905a8bcee87eb4c5557942970ca4d026.jpg? [y]es, [n]o, [A]ll, [N]one, [r]ename: \n",
            "error:  invalid response [{ENTER}]\n",
            "replace datasets/dataset/train/images/video_hw_netology_mp4-0007_jpg.rf.905a8bcee87eb4c5557942970ca4d026.jpg? [y]es, [n]o, [A]ll, [N]one, [r]ename: n\n",
            "replace datasets/dataset/train/images/video_hw_netology_mp4-0007_jpg.rf.c30a4094e919391f141a7411e4a35913.jpg? [y]es, [n]o, [A]ll, [N]one, [r]ename: nn\n",
            "replace datasets/dataset/train/images/video_hw_netology_mp4-0008_jpg.rf.15d9f362bd6653a6d546f959cb0fbd81.jpg? [y]es, [n]o, [A]ll, [N]one, [r]ename: \n",
            "error:  invalid response [{ENTER}]\n",
            "replace datasets/dataset/train/images/video_hw_netology_mp4-0008_jpg.rf.15d9f362bd6653a6d546f959cb0fbd81.jpg? [y]es, [n]o, [A]ll, [N]one, [r]ename: n\n",
            "replace datasets/dataset/train/images/video_hw_netology_mp4-0008_jpg.rf.94f53cd86869dde4ac941adcb88df1c0.jpg? [y]es, [n]o, [A]ll, [N]one, [r]ename: n\n",
            "replace datasets/dataset/train/images/video_hw_netology_mp4-0008_jpg.rf.96fa2071e9a28871bb658c97412883e9.jpg? [y]es, [n]o, [A]ll, [N]one, [r]ename: n\n",
            "replace datasets/dataset/train/images/video_hw_netology_mp4-0012_jpg.rf.1eeae0cedf4c167ffd2c11a0fdf9c185.jpg? [y]es, [n]o, [A]ll, [N]one, [r]ename: n\n",
            "replace datasets/dataset/train/images/video_hw_netology_mp4-0012_jpg.rf.5aacb55fced366cfb78d966c2dc21bc8.jpg? [y]es, [n]o, [A]ll, [N]one, [r]ename: \n",
            "error:  invalid response [{ENTER}]\n",
            "replace datasets/dataset/train/images/video_hw_netology_mp4-0012_jpg.rf.5aacb55fced366cfb78d966c2dc21bc8.jpg? [y]es, [n]o, [A]ll, [N]one, [r]ename: n\n",
            "replace datasets/dataset/train/images/video_hw_netology_mp4-0012_jpg.rf.946a1080ce67497c0c5dd89678de093a.jpg? [y]es, [n]o, [A]ll, [N]one, [r]ename: n\n",
            "replace datasets/dataset/train/images/video_hw_netology_mp4-0014_jpg.rf.1c8a900256e11af4cf91472428b51a90.jpg? [y]es, [n]o, [A]ll, [N]one, [r]ename: n\n",
            "replace datasets/dataset/train/images/video_hw_netology_mp4-0014_jpg.rf.3ad0840f0f7c98183aa501a8df48fdbc.jpg? [y]es, [n]o, [A]ll, [N]one, [r]ename: n\n",
            "replace datasets/dataset/train/images/video_hw_netology_mp4-0014_jpg.rf.43f2f11e382d1e72261aaa287a082763.jpg? [y]es, [n]o, [A]ll, [N]one, [r]ename: n\n",
            "replace datasets/dataset/train/images/video_hw_netology_mp4-0015_jpg.rf.34b1b8ee3015f5ec1671f5b0ddf41040.jpg? [y]es, [n]o, [A]ll, [N]one, [r]ename: n\n",
            "replace datasets/dataset/train/images/video_hw_netology_mp4-0015_jpg.rf.57be3dd8a2b487d8d85d56e630008a0c.jpg? [y]es, [n]o, [A]ll, [N]one, [r]ename: n\n",
            "replace datasets/dataset/train/images/video_hw_netology_mp4-0015_jpg.rf.b8fc62193ecdf5fa45e6bba07ce58af7.jpg? [y]es, [n]o, [A]ll, [N]one, [r]ename: n\n",
            "replace datasets/dataset/train/images/video_hw_netology_mp4-0016_jpg.rf.aa2e34d544f2ad5e1a418aa4715ae1b2.jpg? [y]es, [n]o, [A]ll, [N]one, [r]ename: n\n",
            "replace datasets/dataset/train/images/video_hw_netology_mp4-0016_jpg.rf.c568a73c59f2f807a0537f4b4e2b1fd4.jpg? [y]es, [n]o, [A]ll, [N]one, [r]ename: \n",
            "error:  invalid response [{ENTER}]\n",
            "replace datasets/dataset/train/images/video_hw_netology_mp4-0016_jpg.rf.c568a73c59f2f807a0537f4b4e2b1fd4.jpg? [y]es, [n]o, [A]ll, [N]one, [r]ename: n\n",
            "replace datasets/dataset/train/images/video_hw_netology_mp4-0016_jpg.rf.d158a23e49c4f8333e244d4888f3dde6.jpg? [y]es, [n]o, [A]ll, [N]one, [r]ename: n\n",
            "replace datasets/dataset/train/images/video_hw_netology_mp4-0019_jpg.rf.2907cab97096ec08a22928507c01fdd8.jpg? [y]es, [n]o, [A]ll, [N]one, [r]ename: n\n",
            "replace datasets/dataset/train/images/video_hw_netology_mp4-0019_jpg.rf.ea414448a5ac5d81d3a2a83036b554de.jpg? [y]es, [n]o, [A]ll, [N]one, [r]ename: n\n",
            "replace datasets/dataset/train/images/video_hw_netology_mp4-0019_jpg.rf.ec01822666dbdefcc2edc8a8c949c9a0.jpg? [y]es, [n]o, [A]ll, [N]one, [r]ename: n\n",
            "replace datasets/dataset/train/images/video_hw_netology_mp4-0021_jpg.rf.35fbf0538b37cccaafba5dd64455a8a3.jpg? [y]es, [n]o, [A]ll, [N]one, [r]ename: n\n",
            "replace datasets/dataset/train/images/video_hw_netology_mp4-0021_jpg.rf.65c18b442827c601b93951bbb2ab6ec3.jpg? [y]es, [n]o, [A]ll, [N]one, [r]ename: n\n",
            "replace datasets/dataset/train/images/video_hw_netology_mp4-0021_jpg.rf.72e09291b690660b0b2787d9e5598f1f.jpg? [y]es, [n]o, [A]ll, [N]one, [r]ename: n\n",
            "replace datasets/dataset/train/images/video_hw_netology_mp4-0022_jpg.rf.2252a15492d78b2a5a1b20d1e52e6963.jpg? [y]es, [n]o, [A]ll, [N]one, [r]ename: n\n",
            "replace datasets/dataset/train/images/video_hw_netology_mp4-0022_jpg.rf.f0a1d77b7e76020beceb76854ab00386.jpg? [y]es, [n]o, [A]ll, [N]one, [r]ename: n\n",
            "replace datasets/dataset/train/images/video_hw_netology_mp4-0022_jpg.rf.fb1001835323ee94b5cf4ebb39bc0001.jpg? [y]es, [n]o, [A]ll, [N]one, [r]ename: n\n",
            "replace datasets/dataset/train/images/video_hw_netology_mp4-0024_jpg.rf.24582dcc4d833d193f76d51487677ed9.jpg? [y]es, [n]o, [A]ll, [N]one, [r]ename: n\n",
            "replace datasets/dataset/train/images/video_hw_netology_mp4-0024_jpg.rf.b67f85bb488b6753047481f67154ff02.jpg? [y]es, [n]o, [A]ll, [N]one, [r]ename: n\n",
            "replace datasets/dataset/train/images/video_hw_netology_mp4-0024_jpg.rf.c5d2bb47a3e67129e21e526949f2f2ed.jpg? [y]es, [n]o, [A]ll, [N]one, [r]ename: n\n",
            "replace datasets/dataset/train/images/video_hw_netology_mp4-0025_jpg.rf.2070c5e1e91f898eb46ac1a4f6ecf7dc.jpg? [y]es, [n]o, [A]ll, [N]one, [r]ename: n\n",
            "replace datasets/dataset/train/images/video_hw_netology_mp4-0025_jpg.rf.7548698b16858a4a57811e268254c04a.jpg? [y]es, [n]o, [A]ll, [N]one, [r]ename: \n",
            "error:  invalid response [{ENTER}]\n",
            "replace datasets/dataset/train/images/video_hw_netology_mp4-0025_jpg.rf.7548698b16858a4a57811e268254c04a.jpg? [y]es, [n]o, [A]ll, [N]one, [r]ename: n\n",
            "replace datasets/dataset/train/images/video_hw_netology_mp4-0025_jpg.rf.fbf1ccb0df594a97963cbfc08e62293a.jpg? [y]es, [n]o, [A]ll, [N]one, [r]ename: n\n",
            "replace datasets/dataset/train/images/video_hw_netology_mp4-0026_jpg.rf.609564f228bc6bd5de81c0b423aa2c6b.jpg? [y]es, [n]o, [A]ll, [N]one, [r]ename: n\n",
            "replace datasets/dataset/train/images/video_hw_netology_mp4-0026_jpg.rf.6bd142bba6eedbfead7d8a7674caa565.jpg? [y]es, [n]o, [A]ll, [N]one, [r]ename: n\n",
            "replace datasets/dataset/train/images/video_hw_netology_mp4-0026_jpg.rf.e59b6eefd7d9724197a02b5e9f6f98c1.jpg? [y]es, [n]o, [A]ll, [N]one, [r]ename: n\n",
            "replace datasets/dataset/train/images/video_hw_netology_mp4-0027_jpg.rf.974694eb10e0037106a86953848e1d1b.jpg? [y]es, [n]o, [A]ll, [N]one, [r]ename: n\n",
            "replace datasets/dataset/train/images/video_hw_netology_mp4-0027_jpg.rf.e27feee7c3b979728e3091a02558ba5a.jpg? [y]es, [n]o, [A]ll, [N]one, [r]ename: n\n",
            "replace datasets/dataset/train/images/video_hw_netology_mp4-0027_jpg.rf.ffd04de68be1c4040e34a532756bc52c.jpg? [y]es, [n]o, [A]ll, [N]one, [r]ename: n\n",
            "replace datasets/dataset/train/images/video_hw_netology_mp4-0029_jpg.rf.5aa01a5c4084436f46ea5128ea8374c4.jpg? [y]es, [n]o, [A]ll, [N]one, [r]ename: n\n",
            "replace datasets/dataset/train/images/video_hw_netology_mp4-0029_jpg.rf.b36f98fc2ccba8e9df632ff4c4fc920a.jpg? [y]es, [n]o, [A]ll, [N]one, [r]ename: n\n",
            "replace datasets/dataset/train/images/video_hw_netology_mp4-0029_jpg.rf.b6e7945f9dccbacc0ae459fba935abe1.jpg? [y]es, [n]o, [A]ll, [N]one, [r]ename: \n",
            "error:  invalid response [{ENTER}]\n",
            "replace datasets/dataset/train/images/video_hw_netology_mp4-0029_jpg.rf.b6e7945f9dccbacc0ae459fba935abe1.jpg? [y]es, [n]o, [A]ll, [N]one, [r]ename: n\n",
            "replace datasets/dataset/train/images/video_hw_netology_mp4-0030_jpg.rf.1835fcb87c23e1e8851bd0450c245bb8.jpg? [y]es, [n]o, [A]ll, [N]one, [r]ename: n\n",
            "replace datasets/dataset/train/images/video_hw_netology_mp4-0030_jpg.rf.44673574d6ef916fd9bbf2fca61ce952.jpg? [y]es, [n]o, [A]ll, [N]one, [r]ename: n\n",
            "replace datasets/dataset/train/images/video_hw_netology_mp4-0030_jpg.rf.81d45c11207d71ee7068738fa1b345f6.jpg? [y]es, [n]o, [A]ll, [N]one, [r]ename: n\n",
            "replace datasets/dataset/train/images/video_hw_netology_mp4-0031_jpg.rf.1a3ef95b41576da0561bbc2e692dd3cc.jpg? [y]es, [n]o, [A]ll, [N]one, [r]ename: nn\n",
            "replace datasets/dataset/train/images/video_hw_netology_mp4-0031_jpg.rf.33e25e957146ea42093a299d6d43f91f.jpg? [y]es, [n]o, [A]ll, [N]one, [r]ename: n\n",
            "replace datasets/dataset/train/images/video_hw_netology_mp4-0031_jpg.rf.55e52cb3bac65a2dd39685907172c91a.jpg? [y]es, [n]o, [A]ll, [N]one, [r]ename: n\n",
            "replace datasets/dataset/train/images/video_hw_netology_mp4-0032_jpg.rf.b431a3501deae64ef244961754217844.jpg? [y]es, [n]o, [A]ll, [N]one, [r]ename: nn\n",
            "replace datasets/dataset/train/images/video_hw_netology_mp4-0032_jpg.rf.c327c26ac25365f515916959d2ef3746.jpg? [y]es, [n]o, [A]ll, [N]one, [r]ename: n\n",
            "replace datasets/dataset/train/images/video_hw_netology_mp4-0032_jpg.rf.c3700c3a5476f8d7821c3857b2fd871f.jpg? [y]es, [n]o, [A]ll, [N]one, [r]ename: n\n",
            "replace datasets/dataset/train/images/video_hw_netology_mp4-0035_jpg.rf.3bcbadcbcff51d1446774062766591ce.jpg? [y]es, [n]o, [A]ll, [N]one, [r]ename: n\n",
            "replace datasets/dataset/train/images/video_hw_netology_mp4-0035_jpg.rf.acee4b83fe7e479a86c1f69962522598.jpg? [y]es, [n]o, [A]ll, [N]one, [r]ename: n\n",
            "replace datasets/dataset/train/images/video_hw_netology_mp4-0035_jpg.rf.f97050ecd78df4b84e07e29a252923cf.jpg? [y]es, [n]o, [A]ll, [N]one, [r]ename: \n",
            "error:  invalid response [{ENTER}]\n",
            "replace datasets/dataset/train/images/video_hw_netology_mp4-0035_jpg.rf.f97050ecd78df4b84e07e29a252923cf.jpg? [y]es, [n]o, [A]ll, [N]one, [r]ename: n\n",
            "replace datasets/dataset/train/images/video_hw_netology_mp4-0037_jpg.rf.3781e770d87e6165548fa88d5da20fde.jpg? [y]es, [n]o, [A]ll, [N]one, [r]ename: nn\n",
            "replace datasets/dataset/train/images/video_hw_netology_mp4-0037_jpg.rf.50a2a6cdab3629b222f0771e9313c282.jpg? [y]es, [n]o, [A]ll, [N]one, [r]ename: n\n",
            "replace datasets/dataset/train/images/video_hw_netology_mp4-0037_jpg.rf.618840fdc756709732e3c8d7a4df3d5c.jpg? [y]es, [n]o, [A]ll, [N]one, [r]ename: n\n",
            "replace datasets/dataset/train/images/video_hw_netology_mp4-0038_jpg.rf.03b15a1da3da1898c2921134448883ce.jpg? [y]es, [n]o, [A]ll, [N]one, [r]ename: n\n",
            "replace datasets/dataset/train/images/video_hw_netology_mp4-0038_jpg.rf.57249d70ff2dd13515c6a275660ee7ce.jpg? [y]es, [n]o, [A]ll, [N]one, [r]ename: n\n",
            "replace datasets/dataset/train/images/video_hw_netology_mp4-0038_jpg.rf.da9a332fc12e9e8bcb5d71dab5415f33.jpg? [y]es, [n]o, [A]ll, [N]one, [r]ename: n\n",
            "replace datasets/dataset/train/images/video_hw_netology_mp4-0039_jpg.rf.3c99e8fb8a4ab8b2693816fd0146f460.jpg? [y]es, [n]o, [A]ll, [N]one, [r]ename: n\n",
            "replace datasets/dataset/train/images/video_hw_netology_mp4-0039_jpg.rf.81e47c3e6229d28d4f9b36c79f9632b1.jpg? [y]es, [n]o, [A]ll, [N]one, [r]ename: n\n",
            "replace datasets/dataset/train/images/video_hw_netology_mp4-0039_jpg.rf.a4ddc810613fe0e20a6ec17157108453.jpg? [y]es, [n]o, [A]ll, [N]one, [r]ename: n\n",
            "replace datasets/dataset/train/images/video_hw_netology_mp4-0042_jpg.rf.1655a63c687a2a5a5e71a40d2a6d9a19.jpg? [y]es, [n]o, [A]ll, [N]one, [r]ename: n\n",
            "replace datasets/dataset/train/images/video_hw_netology_mp4-0042_jpg.rf.3a43f3a9f8603bce16ab2c5dfd433ada.jpg? [y]es, [n]o, [A]ll, [N]one, [r]ename: n\n",
            "replace datasets/dataset/train/images/video_hw_netology_mp4-0042_jpg.rf.5b33c5149849b4fdf26fa6429343dbd9.jpg? [y]es, [n]o, [A]ll, [N]one, [r]ename: n\n",
            "replace datasets/dataset/train/images/video_hw_netology_mp4-0043_jpg.rf.0fe8723a4b1ac9cb3ae088bb8ee50927.jpg? [y]es, [n]o, [A]ll, [N]one, [r]ename: n\n",
            "replace datasets/dataset/train/images/video_hw_netology_mp4-0043_jpg.rf.2c9df2ffe973ca1f4e4ef2b8efddb8b5.jpg? [y]es, [n]o, [A]ll, [N]one, [r]ename: n\n",
            "replace datasets/dataset/train/images/video_hw_netology_mp4-0043_jpg.rf.e2068144c9decd7ba9c77e1a2493171a.jpg? [y]es, [n]o, [A]ll, [N]one, [r]ename: n\n",
            "replace datasets/dataset/train/images/video_hw_netology_mp4-0044_jpg.rf.1f7788858076c346afb49494610b9cbc.jpg? [y]es, [n]o, [A]ll, [N]one, [r]ename: n\n",
            "replace datasets/dataset/train/images/video_hw_netology_mp4-0044_jpg.rf.488c372ebfda8089287611ba4f4c94ac.jpg? [y]es, [n]o, [A]ll, [N]one, [r]ename: \n",
            "error:  invalid response [{ENTER}]\n",
            "replace datasets/dataset/train/images/video_hw_netology_mp4-0044_jpg.rf.488c372ebfda8089287611ba4f4c94ac.jpg? [y]es, [n]o, [A]ll, [N]one, [r]ename: n\n",
            "replace datasets/dataset/train/images/video_hw_netology_mp4-0044_jpg.rf.abb96cfd482795d488c7aaeb69772ca3.jpg? [y]es, [n]o, [A]ll, [N]one, [r]ename: n\n",
            "replace datasets/dataset/train/images/video_hw_netology_mp4-0045_jpg.rf.6b2a7b10652832f4328c99e2a30e4de7.jpg? [y]es, [n]o, [A]ll, [N]one, [r]ename: n\n",
            "replace datasets/dataset/train/images/video_hw_netology_mp4-0045_jpg.rf.b8d798b6df1431e15ff78dc9686456e4.jpg? [y]es, [n]o, [A]ll, [N]one, [r]ename: n\n",
            "replace datasets/dataset/train/images/video_hw_netology_mp4-0045_jpg.rf.b998afdf6515cdec6d2b3c4f6e7e1aff.jpg? [y]es, [n]o, [A]ll, [N]one, [r]ename: n\n",
            "replace datasets/dataset/train/images/video_hw_netology_mp4-0046_jpg.rf.0bf5e7cd8d287f78e36827ea593d1d23.jpg? [y]es, [n]o, [A]ll, [N]one, [r]ename: n\n",
            "replace datasets/dataset/train/images/video_hw_netology_mp4-0046_jpg.rf.12f5ef97cbfe1302504565b0d38da06d.jpg? [y]es, [n]o, [A]ll, [N]one, [r]ename: n\n",
            "replace datasets/dataset/train/images/video_hw_netology_mp4-0046_jpg.rf.f71298f9a34f18f1ff0ddc2834388452.jpg? [y]es, [n]o, [A]ll, [N]one, [r]ename: n\n",
            "replace datasets/dataset/train/images/video_hw_netology_mp4-0047_jpg.rf.25e3194ed30055536beb93a637b08d65.jpg? [y]es, [n]o, [A]ll, [N]one, [r]ename: \n",
            "error:  invalid response [{ENTER}]\n",
            "replace datasets/dataset/train/images/video_hw_netology_mp4-0047_jpg.rf.25e3194ed30055536beb93a637b08d65.jpg? [y]es, [n]o, [A]ll, [N]one, [r]ename: n\n",
            "replace datasets/dataset/train/images/video_hw_netology_mp4-0047_jpg.rf.2c41bea072259972779e7160f19b23fc.jpg? [y]es, [n]o, [A]ll, [N]one, [r]ename: n\n",
            "replace datasets/dataset/train/images/video_hw_netology_mp4-0047_jpg.rf.e1acb10f734612e8a329b30101dba7ae.jpg? [y]es, [n]o, [A]ll, [N]one, [r]ename: n\n",
            "replace datasets/dataset/train/images/video_hw_netology_mp4-0050_jpg.rf.30bce23155489295feca1802ebbaed41.jpg? [y]es, [n]o, [A]ll, [N]one, [r]ename: n\n",
            "replace datasets/dataset/train/images/video_hw_netology_mp4-0050_jpg.rf.61dd58993efd15fd55e55badea088500.jpg? [y]es, [n]o, [A]ll, [N]one, [r]ename: \n",
            "error:  invalid response [{ENTER}]\n",
            "replace datasets/dataset/train/images/video_hw_netology_mp4-0050_jpg.rf.61dd58993efd15fd55e55badea088500.jpg? [y]es, [n]o, [A]ll, [N]one, [r]ename: n\n",
            "replace datasets/dataset/train/images/video_hw_netology_mp4-0050_jpg.rf.c9420c72108c4c76c38c6250bc3b786f.jpg? [y]es, [n]o, [A]ll, [N]one, [r]ename: n\n",
            "replace datasets/dataset/train/images/video_hw_netology_mp4-0051_jpg.rf.4ac738f59be2ff122701dd2d26d83331.jpg? [y]es, [n]o, [A]ll, [N]one, [r]ename: n\n",
            "replace datasets/dataset/train/images/video_hw_netology_mp4-0051_jpg.rf.6d609b4f0c3373053b30c509e86312d3.jpg? [y]es, [n]o, [A]ll, [N]one, [r]ename: n\n",
            "replace datasets/dataset/train/images/video_hw_netology_mp4-0051_jpg.rf.bd9933d01f67c536449ec6dc71e5323e.jpg? [y]es, [n]o, [A]ll, [N]one, [r]ename: n\n",
            "replace datasets/dataset/train/images/video_hw_netology_mp4-0054_jpg.rf.455785fbed499b4fbee4f48d4147a75f.jpg? [y]es, [n]o, [A]ll, [N]one, [r]ename: n\n",
            "replace datasets/dataset/train/images/video_hw_netology_mp4-0054_jpg.rf.997c28051d5b84a4a6bb125bf915ff7f.jpg? [y]es, [n]o, [A]ll, [N]one, [r]ename: \n",
            "error:  invalid response [{ENTER}]\n",
            "replace datasets/dataset/train/images/video_hw_netology_mp4-0054_jpg.rf.997c28051d5b84a4a6bb125bf915ff7f.jpg? [y]es, [n]o, [A]ll, [N]one, [r]ename: n\n",
            "replace datasets/dataset/train/images/video_hw_netology_mp4-0054_jpg.rf.f300a4e54e778315c328b2c7f3ab3208.jpg? [y]es, [n]o, [A]ll, [N]one, [r]ename: n\n",
            "replace datasets/dataset/train/images/video_hw_netology_mp4-0055_jpg.rf.005c95d3927a0652f05ae648143e7eb2.jpg? [y]es, [n]o, [A]ll, [N]one, [r]ename: n\n",
            "replace datasets/dataset/train/images/video_hw_netology_mp4-0055_jpg.rf.99682d57dbcf1331a0400f4972ce481c.jpg? [y]es, [n]o, [A]ll, [N]one, [r]ename: n\n",
            "replace datasets/dataset/train/images/video_hw_netology_mp4-0055_jpg.rf.afd8a8dd55df3f25d840765f2e73096e.jpg? [y]es, [n]o, [A]ll, [N]one, [r]ename: n\n",
            "replace datasets/dataset/train/images/video_hw_netology_mp4-0056_jpg.rf.bcbe46302e2dd04747cd26a832e00ab1.jpg? [y]es, [n]o, [A]ll, [N]one, [r]ename: N\n"
          ]
        }
      ]
    },
    {
      "cell_type": "code",
      "source": [],
      "metadata": {
        "id": "sCurBCgrWhgQ"
      },
      "execution_count": null,
      "outputs": []
    },
    {
      "cell_type": "code",
      "source": [
        "from google.colab import drive\n",
        "drive.mount('/content/drive')"
      ],
      "metadata": {
        "colab": {
          "base_uri": "https://localhost:8080/",
          "height": 304
        },
        "id": "Fh8Umq99WGp5",
        "outputId": "29a2039d-acab-4777-90ec-fa93da4d8195"
      },
      "execution_count": null,
      "outputs": [
        {
          "output_type": "error",
          "ename": "MessageError",
          "evalue": "Error: credential propagation was unsuccessful",
          "traceback": [
            "\u001b[0;31m---------------------------------------------------------------------------\u001b[0m",
            "\u001b[0;31mMessageError\u001b[0m                              Traceback (most recent call last)",
            "\u001b[0;32m<ipython-input-28-d5df0069828e>\u001b[0m in \u001b[0;36m<cell line: 0>\u001b[0;34m()\u001b[0m\n\u001b[1;32m      1\u001b[0m \u001b[0;32mfrom\u001b[0m \u001b[0mgoogle\u001b[0m\u001b[0;34m.\u001b[0m\u001b[0mcolab\u001b[0m \u001b[0;32mimport\u001b[0m \u001b[0mdrive\u001b[0m\u001b[0;34m\u001b[0m\u001b[0;34m\u001b[0m\u001b[0m\n\u001b[0;32m----> 2\u001b[0;31m \u001b[0mdrive\u001b[0m\u001b[0;34m.\u001b[0m\u001b[0mmount\u001b[0m\u001b[0;34m(\u001b[0m\u001b[0;34m'/content/drive'\u001b[0m\u001b[0;34m)\u001b[0m\u001b[0;34m\u001b[0m\u001b[0;34m\u001b[0m\u001b[0m\n\u001b[0m",
            "\u001b[0;32m/usr/local/lib/python3.11/dist-packages/google/colab/drive.py\u001b[0m in \u001b[0;36mmount\u001b[0;34m(mountpoint, force_remount, timeout_ms, readonly)\u001b[0m\n\u001b[1;32m     98\u001b[0m \u001b[0;32mdef\u001b[0m \u001b[0mmount\u001b[0m\u001b[0;34m(\u001b[0m\u001b[0mmountpoint\u001b[0m\u001b[0;34m,\u001b[0m \u001b[0mforce_remount\u001b[0m\u001b[0;34m=\u001b[0m\u001b[0;32mFalse\u001b[0m\u001b[0;34m,\u001b[0m \u001b[0mtimeout_ms\u001b[0m\u001b[0;34m=\u001b[0m\u001b[0;36m120000\u001b[0m\u001b[0;34m,\u001b[0m \u001b[0mreadonly\u001b[0m\u001b[0;34m=\u001b[0m\u001b[0;32mFalse\u001b[0m\u001b[0;34m)\u001b[0m\u001b[0;34m:\u001b[0m\u001b[0;34m\u001b[0m\u001b[0;34m\u001b[0m\u001b[0m\n\u001b[1;32m     99\u001b[0m   \u001b[0;34m\"\"\"Mount your Google Drive at the specified mountpoint path.\"\"\"\u001b[0m\u001b[0;34m\u001b[0m\u001b[0;34m\u001b[0m\u001b[0m\n\u001b[0;32m--> 100\u001b[0;31m   return _mount(\n\u001b[0m\u001b[1;32m    101\u001b[0m       \u001b[0mmountpoint\u001b[0m\u001b[0;34m,\u001b[0m\u001b[0;34m\u001b[0m\u001b[0;34m\u001b[0m\u001b[0m\n\u001b[1;32m    102\u001b[0m       \u001b[0mforce_remount\u001b[0m\u001b[0;34m=\u001b[0m\u001b[0mforce_remount\u001b[0m\u001b[0;34m,\u001b[0m\u001b[0;34m\u001b[0m\u001b[0;34m\u001b[0m\u001b[0m\n",
            "\u001b[0;32m/usr/local/lib/python3.11/dist-packages/google/colab/drive.py\u001b[0m in \u001b[0;36m_mount\u001b[0;34m(mountpoint, force_remount, timeout_ms, ephemeral, readonly)\u001b[0m\n\u001b[1;32m    135\u001b[0m   )\n\u001b[1;32m    136\u001b[0m   \u001b[0;32mif\u001b[0m \u001b[0mephemeral\u001b[0m\u001b[0;34m:\u001b[0m\u001b[0;34m\u001b[0m\u001b[0;34m\u001b[0m\u001b[0m\n\u001b[0;32m--> 137\u001b[0;31m     _message.blocking_request(\n\u001b[0m\u001b[1;32m    138\u001b[0m         \u001b[0;34m'request_auth'\u001b[0m\u001b[0;34m,\u001b[0m\u001b[0;34m\u001b[0m\u001b[0;34m\u001b[0m\u001b[0m\n\u001b[1;32m    139\u001b[0m         \u001b[0mrequest\u001b[0m\u001b[0;34m=\u001b[0m\u001b[0;34m{\u001b[0m\u001b[0;34m'authType'\u001b[0m\u001b[0;34m:\u001b[0m \u001b[0;34m'dfs_ephemeral'\u001b[0m\u001b[0;34m}\u001b[0m\u001b[0;34m,\u001b[0m\u001b[0;34m\u001b[0m\u001b[0;34m\u001b[0m\u001b[0m\n",
            "\u001b[0;32m/usr/local/lib/python3.11/dist-packages/google/colab/_message.py\u001b[0m in \u001b[0;36mblocking_request\u001b[0;34m(request_type, request, timeout_sec, parent)\u001b[0m\n\u001b[1;32m    174\u001b[0m       \u001b[0mrequest_type\u001b[0m\u001b[0;34m,\u001b[0m \u001b[0mrequest\u001b[0m\u001b[0;34m,\u001b[0m \u001b[0mparent\u001b[0m\u001b[0;34m=\u001b[0m\u001b[0mparent\u001b[0m\u001b[0;34m,\u001b[0m \u001b[0mexpect_reply\u001b[0m\u001b[0;34m=\u001b[0m\u001b[0;32mTrue\u001b[0m\u001b[0;34m\u001b[0m\u001b[0;34m\u001b[0m\u001b[0m\n\u001b[1;32m    175\u001b[0m   )\n\u001b[0;32m--> 176\u001b[0;31m   \u001b[0;32mreturn\u001b[0m \u001b[0mread_reply_from_input\u001b[0m\u001b[0;34m(\u001b[0m\u001b[0mrequest_id\u001b[0m\u001b[0;34m,\u001b[0m \u001b[0mtimeout_sec\u001b[0m\u001b[0;34m)\u001b[0m\u001b[0;34m\u001b[0m\u001b[0;34m\u001b[0m\u001b[0m\n\u001b[0m",
            "\u001b[0;32m/usr/local/lib/python3.11/dist-packages/google/colab/_message.py\u001b[0m in \u001b[0;36mread_reply_from_input\u001b[0;34m(message_id, timeout_sec)\u001b[0m\n\u001b[1;32m    101\u001b[0m     ):\n\u001b[1;32m    102\u001b[0m       \u001b[0;32mif\u001b[0m \u001b[0;34m'error'\u001b[0m \u001b[0;32min\u001b[0m \u001b[0mreply\u001b[0m\u001b[0;34m:\u001b[0m\u001b[0;34m\u001b[0m\u001b[0;34m\u001b[0m\u001b[0m\n\u001b[0;32m--> 103\u001b[0;31m         \u001b[0;32mraise\u001b[0m \u001b[0mMessageError\u001b[0m\u001b[0;34m(\u001b[0m\u001b[0mreply\u001b[0m\u001b[0;34m[\u001b[0m\u001b[0;34m'error'\u001b[0m\u001b[0;34m]\u001b[0m\u001b[0;34m)\u001b[0m\u001b[0;34m\u001b[0m\u001b[0;34m\u001b[0m\u001b[0m\n\u001b[0m\u001b[1;32m    104\u001b[0m       \u001b[0;32mreturn\u001b[0m \u001b[0mreply\u001b[0m\u001b[0;34m.\u001b[0m\u001b[0mget\u001b[0m\u001b[0;34m(\u001b[0m\u001b[0;34m'data'\u001b[0m\u001b[0;34m,\u001b[0m \u001b[0;32mNone\u001b[0m\u001b[0;34m)\u001b[0m\u001b[0;34m\u001b[0m\u001b[0;34m\u001b[0m\u001b[0m\n\u001b[1;32m    105\u001b[0m \u001b[0;34m\u001b[0m\u001b[0m\n",
            "\u001b[0;31mMessageError\u001b[0m: Error: credential propagation was unsuccessful"
          ]
        }
      ]
    },
    {
      "cell_type": "code",
      "source": [
        "%cd datasets/dataset/"
      ],
      "metadata": {
        "colab": {
          "base_uri": "https://localhost:8080/"
        },
        "id": "tDPshmlPWLne",
        "outputId": "1133a03f-7cf0-42f3-c281-b4dbe58263c4"
      },
      "execution_count": null,
      "outputs": [
        {
          "output_type": "stream",
          "name": "stdout",
          "text": [
            "/content/datasets/dataset\n"
          ]
        }
      ]
    },
    {
      "cell_type": "code",
      "source": [
        "# Открываем файл конфигурации датасета\n",
        "with open('data.yaml', 'r') as file:\n",
        "    config = yaml.safe_load(file)"
      ],
      "metadata": {
        "id": "yon4jXKcWVEf"
      },
      "execution_count": 33,
      "outputs": []
    },
    {
      "cell_type": "code",
      "source": [
        "print(config)"
      ],
      "metadata": {
        "colab": {
          "base_uri": "https://localhost:8080/"
        },
        "id": "-p9c2-aRY-X9",
        "outputId": "fcb7f388-95e9-49c8-fb3d-16b51c3f5770"
      },
      "execution_count": 34,
      "outputs": [
        {
          "output_type": "stream",
          "name": "stdout",
          "text": [
            "{'train': '../train/images', 'val': '../valid/images', 'test': '../test/images', 'nc': 1, 'names': ['car'], 'roboflow': {'workspace': 'project-1-n4qxg', 'project': 'my-first-project-x9kwi', 'version': 2, 'license': 'CC BY 4.0', 'url': 'https://universe.roboflow.com/project-1-n4qxg/my-first-project-x9kwi/dataset/2'}}\n"
          ]
        }
      ]
    },
    {
      "cell_type": "code",
      "source": [
        "!ls"
      ],
      "metadata": {
        "colab": {
          "base_uri": "https://localhost:8080/"
        },
        "id": "KpSdxJLkZAhg",
        "outputId": "ab3c8c1c-e65e-45cc-892b-b34292275f0d"
      },
      "execution_count": 35,
      "outputs": [
        {
          "output_type": "stream",
          "name": "stdout",
          "text": [
            "dataset.zip  data.yaml\tREADME.dataset.txt  README.roboflow.txt  train\tvalid\n"
          ]
        }
      ]
    },
    {
      "cell_type": "code",
      "source": [
        "# проверяем файлы в датасете\n",
        "img_list = os.listdir(config['train'].replace('../', ''))\n",
        "print(len(img_list), *img_list[:5], sep='\\n')\n",
        "img_list = os.listdir(config['val'].replace('../', ''))\n",
        "print(len(img_list), *img_list[:5], sep='\\n')"
      ],
      "metadata": {
        "colab": {
          "base_uri": "https://localhost:8080/"
        },
        "id": "-p_FeQd3ZGX2",
        "outputId": "0485cac5-3582-48d8-deea-a22ba511bf38"
      },
      "execution_count": 36,
      "outputs": [
        {
          "output_type": "stream",
          "name": "stdout",
          "text": [
            "1056\n",
            "video_hw_netology_mp4-0074_jpg.rf.8ba1e781925613e2626ad19f44544544.jpg\n",
            "video_hw_netology_mp4-0054_jpg.rf.f300a4e54e778315c328b2c7f3ab3208.jpg\n",
            "video_hw_netology_mp4-0347_jpg.rf.100ad93100589f7519d5c79509e09ec9.jpg\n",
            "video_hw_netology_mp4-0349_jpg.rf.01ab168680f0247a65bbda157c2cb543.jpg\n",
            "video_hw_netology_mp4-0228_jpg.rf.e48ebd29afaabf220c689314d6bad033.jpg\n",
            "151\n",
            "video_hw_netology_mp4-0318_jpg.rf.53910b46b34996b26c26c2e1e729b56b.jpg\n",
            "video_hw_netology_mp4-0313_jpg.rf.201ffff2297fde4fce60cdb467d1a979.jpg\n",
            "video_hw_netology_mp4-0161_jpg.rf.bffd937bf81e49da38c6d9d6d045aca4.jpg\n",
            "video_hw_netology_mp4-0404_jpg.rf.dce2a5c7d4ac0306f7c13f074eed65e2.jpg\n",
            "video_hw_netology_mp4-0249_jpg.rf.4127b46d3e8fa55c136743382e4faf78.jpg\n"
          ]
        }
      ]
    },
    {
      "cell_type": "code",
      "source": [
        "ultralytics.checks()  # проверка использования GPU"
      ],
      "metadata": {
        "colab": {
          "base_uri": "https://localhost:8080/"
        },
        "id": "pfgtn9zTZKyo",
        "outputId": "fb929571-d0af-4ee1-e7c2-159f3a4d5782"
      },
      "execution_count": 37,
      "outputs": [
        {
          "output_type": "stream",
          "name": "stdout",
          "text": [
            "Ultralytics 8.3.99 🚀 Python-3.11.11 torch-2.6.0+cu124 CPU (Intel Xeon 2.20GHz)\n",
            "Setup complete ✅ (2 CPUs, 12.7 GB RAM, 41.3/107.7 GB disk)\n"
          ]
        }
      ]
    },
    {
      "cell_type": "code",
      "source": [
        "!nvidia-smi"
      ],
      "metadata": {
        "colab": {
          "base_uri": "https://localhost:8080/"
        },
        "id": "KAptgK2XZNEx",
        "outputId": "298648ee-e346-411c-e01d-3875479dad03"
      },
      "execution_count": 38,
      "outputs": [
        {
          "output_type": "stream",
          "name": "stdout",
          "text": [
            "/bin/bash: line 1: nvidia-smi: command not found\n"
          ]
        }
      ]
    },
    {
      "cell_type": "code",
      "source": [
        "%cd {HOME}/datasets"
      ],
      "metadata": {
        "colab": {
          "base_uri": "https://localhost:8080/"
        },
        "id": "2QhSkrCAZTVi",
        "outputId": "bbf516dc-9801-41b4-a98a-002c9b2b591d"
      },
      "execution_count": 39,
      "outputs": [
        {
          "output_type": "stream",
          "name": "stdout",
          "text": [
            "/content/datasets\n"
          ]
        }
      ]
    },
    {
      "cell_type": "code",
      "source": [
        "!yolo task=detect mode=train model=yolov8n.pt data=dataset/data.yaml epochs=20 imgsz=640 plots=True"
      ],
      "metadata": {
        "colab": {
          "base_uri": "https://localhost:8080/"
        },
        "id": "kH3Ly9rpZV-o",
        "outputId": "e77be384-8199-4120-f0cd-2c8376ad463a"
      },
      "execution_count": null,
      "outputs": [
        {
          "output_type": "stream",
          "name": "stdout",
          "text": [
            "Downloading https://github.com/ultralytics/assets/releases/download/v8.3.0/yolov8n.pt to 'yolov8n.pt'...\n",
            "100% 6.25M/6.25M [00:00<00:00, 74.6MB/s]\n",
            "Ultralytics 8.3.99 🚀 Python-3.11.11 torch-2.6.0+cu124 CPU (Intel Xeon 2.20GHz)\n",
            "\u001b[34m\u001b[1mengine/trainer: \u001b[0mtask=detect, mode=train, model=yolov8n.pt, data=dataset/data.yaml, epochs=20, time=None, patience=100, batch=16, imgsz=640, save=True, save_period=-1, cache=False, device=None, workers=8, project=None, name=train, exist_ok=False, pretrained=True, optimizer=auto, verbose=True, seed=0, deterministic=True, single_cls=False, rect=False, cos_lr=False, close_mosaic=10, resume=False, amp=True, fraction=1.0, profile=False, freeze=None, multi_scale=False, overlap_mask=True, mask_ratio=4, dropout=0.0, val=True, split=val, save_json=False, save_hybrid=False, conf=None, iou=0.7, max_det=300, half=False, dnn=False, plots=True, source=None, vid_stride=1, stream_buffer=False, visualize=False, augment=False, agnostic_nms=False, classes=None, retina_masks=False, embed=None, show=False, save_frames=False, save_txt=False, save_conf=False, save_crop=False, show_labels=True, show_conf=True, show_boxes=True, line_width=None, format=torchscript, keras=False, optimize=False, int8=False, dynamic=False, simplify=True, opset=None, workspace=None, nms=False, lr0=0.01, lrf=0.01, momentum=0.937, weight_decay=0.0005, warmup_epochs=3.0, warmup_momentum=0.8, warmup_bias_lr=0.1, box=7.5, cls=0.5, dfl=1.5, pose=12.0, kobj=1.0, nbs=64, hsv_h=0.015, hsv_s=0.7, hsv_v=0.4, degrees=0.0, translate=0.1, scale=0.5, shear=0.0, perspective=0.0, flipud=0.0, fliplr=0.5, bgr=0.0, mosaic=1.0, mixup=0.0, copy_paste=0.0, copy_paste_mode=flip, auto_augment=randaugment, erasing=0.4, crop_fraction=1.0, cfg=None, tracker=botsort.yaml, save_dir=runs/detect/train\n",
            "Downloading https://ultralytics.com/assets/Arial.ttf to '/root/.config/Ultralytics/Arial.ttf'...\n",
            "100% 755k/755k [00:00<00:00, 14.4MB/s]\n",
            "WARNING: All log messages before absl::InitializeLog() is called are written to STDERR\n",
            "E0000 00:00:1743427835.078242    6381 cuda_dnn.cc:8310] Unable to register cuDNN factory: Attempting to register factory for plugin cuDNN when one has already been registered\n",
            "E0000 00:00:1743427835.187279    6381 cuda_blas.cc:1418] Unable to register cuBLAS factory: Attempting to register factory for plugin cuBLAS when one has already been registered\n",
            "Overriding model.yaml nc=80 with nc=1\n",
            "\n",
            "                   from  n    params  module                                       arguments                     \n",
            "  0                  -1  1       464  ultralytics.nn.modules.conv.Conv             [3, 16, 3, 2]                 \n",
            "  1                  -1  1      4672  ultralytics.nn.modules.conv.Conv             [16, 32, 3, 2]                \n",
            "  2                  -1  1      7360  ultralytics.nn.modules.block.C2f             [32, 32, 1, True]             \n",
            "  3                  -1  1     18560  ultralytics.nn.modules.conv.Conv             [32, 64, 3, 2]                \n",
            "  4                  -1  2     49664  ultralytics.nn.modules.block.C2f             [64, 64, 2, True]             \n",
            "  5                  -1  1     73984  ultralytics.nn.modules.conv.Conv             [64, 128, 3, 2]               \n",
            "  6                  -1  2    197632  ultralytics.nn.modules.block.C2f             [128, 128, 2, True]           \n",
            "  7                  -1  1    295424  ultralytics.nn.modules.conv.Conv             [128, 256, 3, 2]              \n",
            "  8                  -1  1    460288  ultralytics.nn.modules.block.C2f             [256, 256, 1, True]           \n",
            "  9                  -1  1    164608  ultralytics.nn.modules.block.SPPF            [256, 256, 5]                 \n",
            " 10                  -1  1         0  torch.nn.modules.upsampling.Upsample         [None, 2, 'nearest']          \n",
            " 11             [-1, 6]  1         0  ultralytics.nn.modules.conv.Concat           [1]                           \n",
            " 12                  -1  1    148224  ultralytics.nn.modules.block.C2f             [384, 128, 1]                 \n",
            " 13                  -1  1         0  torch.nn.modules.upsampling.Upsample         [None, 2, 'nearest']          \n",
            " 14             [-1, 4]  1         0  ultralytics.nn.modules.conv.Concat           [1]                           \n",
            " 15                  -1  1     37248  ultralytics.nn.modules.block.C2f             [192, 64, 1]                  \n",
            " 16                  -1  1     36992  ultralytics.nn.modules.conv.Conv             [64, 64, 3, 2]                \n",
            " 17            [-1, 12]  1         0  ultralytics.nn.modules.conv.Concat           [1]                           \n",
            " 18                  -1  1    123648  ultralytics.nn.modules.block.C2f             [192, 128, 1]                 \n",
            " 19                  -1  1    147712  ultralytics.nn.modules.conv.Conv             [128, 128, 3, 2]              \n",
            " 20             [-1, 9]  1         0  ultralytics.nn.modules.conv.Concat           [1]                           \n",
            " 21                  -1  1    493056  ultralytics.nn.modules.block.C2f             [384, 256, 1]                 \n",
            " 22        [15, 18, 21]  1    751507  ultralytics.nn.modules.head.Detect           [1, [64, 128, 256]]           \n",
            "Model summary: 129 layers, 3,011,043 parameters, 3,011,027 gradients, 8.2 GFLOPs\n",
            "\n",
            "Transferred 319/355 items from pretrained weights\n",
            "\u001b[34m\u001b[1mTensorBoard: \u001b[0mStart with 'tensorboard --logdir runs/detect/train', view at http://localhost:6006/\n",
            "Freezing layer 'model.22.dfl.conv.weight'\n",
            "\u001b[34m\u001b[1mtrain: \u001b[0mScanning /content/datasets/dataset/train/labels... 1056 images, 15 backgrounds, 0 corrupt: 100% 1056/1056 [00:00<00:00, 1931.90it/s]\n",
            "\u001b[34m\u001b[1mtrain: \u001b[0mNew cache created: /content/datasets/dataset/train/labels.cache\n",
            "\u001b[34m\u001b[1malbumentations: \u001b[0mBlur(p=0.01, blur_limit=(3, 7)), MedianBlur(p=0.01, blur_limit=(3, 7)), ToGray(p=0.01, num_output_channels=3, method='weighted_average'), CLAHE(p=0.01, clip_limit=(1.0, 4.0), tile_grid_size=(8, 8))\n",
            "\u001b[34m\u001b[1mval: \u001b[0mScanning /content/datasets/dataset/valid/labels... 151 images, 3 backgrounds, 0 corrupt: 100% 151/151 [00:00<00:00, 2049.21it/s]\n",
            "\u001b[34m\u001b[1mval: \u001b[0mNew cache created: /content/datasets/dataset/valid/labels.cache\n",
            "Plotting labels to runs/detect/train/labels.jpg... \n",
            "\u001b[34m\u001b[1moptimizer:\u001b[0m 'optimizer=auto' found, ignoring 'lr0=0.01' and 'momentum=0.937' and determining best 'optimizer', 'lr0' and 'momentum' automatically... \n",
            "\u001b[34m\u001b[1moptimizer:\u001b[0m AdamW(lr=0.002, momentum=0.9) with parameter groups 57 weight(decay=0.0), 64 weight(decay=0.0005), 63 bias(decay=0.0)\n",
            "\u001b[34m\u001b[1mTensorBoard: \u001b[0mmodel graph visualization added ✅\n",
            "Image sizes 640 train, 640 val\n",
            "Using 0 dataloader workers\n",
            "Logging results to \u001b[1mruns/detect/train\u001b[0m\n",
            "Starting training for 20 epochs...\n",
            "\n",
            "      Epoch    GPU_mem   box_loss   cls_loss   dfl_loss  Instances       Size\n",
            "       1/20         0G     0.5154      1.724     0.8716         26        640: 100% 66/66 [14:45<00:00, 13.42s/it]\n",
            "                 Class     Images  Instances      Box(P          R      mAP50  mAP50-95): 100% 5/5 [00:52<00:00, 10.48s/it]\n",
            "                   all        151        149          1      0.674      0.993      0.902\n",
            "\n",
            "      Epoch    GPU_mem   box_loss   cls_loss   dfl_loss  Instances       Size\n",
            "       2/20         0G      0.532      1.004     0.8681         27        640: 100% 66/66 [14:29<00:00, 13.18s/it]\n",
            "                 Class     Images  Instances      Box(P          R      mAP50  mAP50-95): 100% 5/5 [00:46<00:00,  9.28s/it]\n",
            "                   all        151        149      0.993      0.989      0.995      0.903\n",
            "\n",
            "      Epoch    GPU_mem   box_loss   cls_loss   dfl_loss  Instances       Size\n",
            "       3/20         0G     0.5542     0.8203      0.892         27        640:  91% 60/66 [13:15<01:18, 13.00s/it]"
          ]
        }
      ]
    },
    {
      "cell_type": "code",
      "source": [
        "%cd {HOME}\n",
        "Image(filename=f'{HOME}/datasets/runs/detect/train/confusion_matrix.png', width=600)"
      ],
      "metadata": {
        "id": "L45RrzQEZnJi"
      },
      "execution_count": null,
      "outputs": []
    },
    {
      "cell_type": "code",
      "source": [
        "%load_ext tensorboard"
      ],
      "metadata": {
        "id": "aV5FnL_rZqoM"
      },
      "execution_count": null,
      "outputs": []
    }
  ]
}